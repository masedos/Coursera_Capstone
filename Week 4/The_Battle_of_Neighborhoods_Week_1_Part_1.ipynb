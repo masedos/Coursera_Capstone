{
  "nbformat": 4,
  "nbformat_minor": 0,
  "metadata": {
    "kernelspec": {
      "display_name": "Python",
      "language": "python",
      "name": "conda-env-python-py"
    },
    "language_info": {
      "codemirror_mode": {
        "name": "ipython",
        "version": 3
      },
      "file_extension": ".py",
      "mimetype": "text/x-python",
      "name": "python",
      "nbconvert_exporter": "python",
      "pygments_lexer": "ipython3",
      "version": "3.6.11"
    },
    "colab": {
      "name": "The Battle of Neighborhoods - Week 1 - Part-1.ipynb",
      "provenance": [],
      "collapsed_sections": []
    }
  },
  "cells": [
    {
      "cell_type": "markdown",
      "metadata": {
        "button": false,
        "new_sheet": false,
        "run_control": {
          "read_only": false
        },
        "id": "wI6CB75084BZ"
      },
      "source": [
        "<h1 align=center><font size = 5>Capstone Project - The Battle of Neighborhoods  - Week 1</font></h1>\n"
      ]
    },
    {
      "cell_type": "markdown",
      "metadata": {
        "button": false,
        "new_sheet": false,
        "run_control": {
          "read_only": false
        },
        "id": "7zJKp-fj84Bd"
      },
      "source": [
        "## Table of Contents\n",
        "\n",
        "1.  <a href=\"#item1\">Business Understanding</a>\n",
        "2.  <a href=\"#item2\">Data Understanding</a>  \n",
        "3.  <a href=\"#item3\">Data Preparation & Cleaning</a>  \n",
        "4.  <a href=\"#item4\">Modeling</a>  \n",
        "5.  <a href=\"#item5\">Evaluation</a>\n",
        "6.  <a href=\"#item5\">Deployment</a>   \n",
        "7.  <a href=\"#item5\">Conclusions</a>   \n"
      ]
    },
    {
      "cell_type": "markdown",
      "metadata": {
        "button": false,
        "new_sheet": false,
        "run_control": {
          "read_only": false
        },
        "id": "h6EfhaWs84B7"
      },
      "source": [
        "## 1. Business Understanding"
      ]
    },
    {
      "cell_type": "markdown",
      "metadata": {
        "id": "wvHKLg1F7pjj"
      },
      "source": [
        "New York City is one of the most famous in the world and with the biggest population in the United States of America. It has a population nearly in 2020 of approximately 8,622,357 million residents. The population density is 27,755.25 people per square mile, with an area of 468.19 square miles. With this density population, it provides many business opportunities, attracting in many different players into the market.\n",
        "With this basic information, we can gain insights derived from analysis that will give a good understanding of the business environment, which can help in strategically targeting the market.\n",
        "\tA restaurant is a business, which prepares and serves food and drink in a famous and excellent cuisine. Food culture include an array of international cuisines influenced by the city’s immigrant history. With this information, we will analysis public data to find insight, to start a new way to start open a restaurant.\n",
        "\n",
        "\n",
        "\n"
      ]
    },
    {
      "cell_type": "markdown",
      "metadata": {
        "id": "lltDiU1r8Bbb"
      },
      "source": [
        "### Project Objectives "
      ]
    },
    {
      "cell_type": "markdown",
      "metadata": {
        "id": "cNnfjv828GFL"
      },
      "source": [
        "Population density is a key aspect of analyzing data on cities, and it plays an important part in issues such as transport, infrastructure and living standards for residents. Some people prefer smaller, less crowded cities with open spaces, while others would rather have the hustle and bustle of big city life.\n",
        "In New York, not just Pizzerias or Coffee Shops are famous, but also there is fine Michelin starred restaurants with the most diverse type of food. With this diversity of restaurants with different categories like Chinese, Indian, French, Brazilian, etc. So here, the main problem is to find the following answer for the question below:\n",
        "  \n",
        "- List and visualize all major parts of New York City that has great restaurants. \n",
        "- What is the best location in New York City for Brazilian? \n",
        "- Which areas have potential Restaurant Market? \n",
        "- Which all areas lack Brazilian Restaurants? \n",
        "- Which is the best place to stay if you prefer Brazilian Food?\n"
      ]
    },
    {
      "cell_type": "markdown",
      "metadata": {
        "id": "v-dY64AUL4Vi"
      },
      "source": [
        "## 2. Data Understanding"
      ]
    },
    {
      "cell_type": "markdown",
      "metadata": {
        "id": "1zSOMby9Fg3U"
      },
      "source": [
        "New York City's have a collection of restaurants from across the city that defined by a diverse culture with a lot of diverse type of food, each belonging to different categories like Chinese, Indian, French, etc. For this project, we will use an open data as following below: \n",
        "New York City data that contains list Boroughs, Neighborhoods along with their latitude and longitude. \n",
        "\n",
        "-\tData set : https://cocl.us/new_york_dataset \n",
        "-\tDescription: This data set contains the required information. Moreover, we will use this data set to explore various neighborhoods of New York City.\n",
        "\n",
        "Chinese, Indian, French restaurants in each neighborhood of New York City. \n",
        "\n",
        "-\tData set : Foursquare API \n",
        "-\tDescription: By using this API, we will get all the venues in each neighborhood. We can filter these venues to get Chinese, Indian, French restaurants.\n",
        "\n",
        "GeoSpace data set\n",
        "-\tData set : https://data.cityofnewyork.us/City-Government/Borough-Boundaries/tqmj-j8zm \n",
        "-\tDescription: By using this geo, space data we will get the New York Borough boundaries that will help us visualize choropleth map. \n",
        "\n",
        "\n",
        "| Borough | Neighborhood | Latitude  | Longitude |\n",
        "| ------------- | ------------- | ----- | ----- |\n",
        "| Bronx   | Wakefield    | 40.894705 | -73.847201 |\n",
        "| Bronx   | Co-op City   | 40.874294 | -73.829939 |\n",
        "| Bronx   | Eastchester  | 40.887556 | -73.827806 |\n",
        "| Bronx   | Fieldston    | 40.895437 | -73.905643 |\n",
        "| Bronx   | Riverdale    | 40.890834 | -73.912585 |"
      ]
    },
    {
      "cell_type": "markdown",
      "metadata": {
        "id": "tgdtcdvxMEIY"
      },
      "source": [
        "## 3. Data Preparation & Cleaning"
      ]
    },
    {
      "cell_type": "markdown",
      "metadata": {
        "id": "lQ5hBPaHMRpP"
      },
      "source": [
        "## 4. Modeling"
      ]
    },
    {
      "cell_type": "markdown",
      "metadata": {
        "id": "RaQLToSzMVqn"
      },
      "source": [
        "## 5. Evaluation"
      ]
    },
    {
      "cell_type": "markdown",
      "metadata": {
        "id": "7YPWHh7HMZmv"
      },
      "source": [
        "## 6. Deployment"
      ]
    },
    {
      "cell_type": "markdown",
      "metadata": {
        "id": "6_yb18hMMbx2"
      },
      "source": [
        "## 7. Conclusions"
      ]
    }
  ]
}